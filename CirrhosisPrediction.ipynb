{
 "cells": [
  {
   "cell_type": "markdown",
   "metadata": {},
   "source": [
    "# Cirrhosis Prediction"
   ]
  },
  {
   "cell_type": "code",
   "execution_count": null,
   "metadata": {},
   "outputs": [],
   "source": [
    "import pandas as pd\n",
    "from sklearn.model_selection import train_test_split\n",
    "from sklearn.preprocessing import StandardScaler\n",
    "from sklearn.metrics import classification_report\n",
    "import seaborn as sns\n",
    "import matplotlib.pyplot as plt"
   ]
  },
  {
   "cell_type": "markdown",
   "metadata": {},
   "source": [
    "## Retrieve the Data"
   ]
  },
  {
   "cell_type": "code",
   "execution_count": null,
   "metadata": {},
   "outputs": [
    {
     "ename": "",
     "evalue": "",
     "output_type": "error",
     "traceback": [
      "\u001b[1;31mFailed to start the Kernel. \n",
      "\u001b[1;31mEPERM: operation not permitted, scandir '/Users/huan-jhelin/Desktop/Data Analysis/SupervisedML-PredictingCreditRisk'. \n",
      "\u001b[1;31mView Jupyter <a href='command:jupyter.viewOutput'>log</a> for further details."
     ]
    }
   ],
   "source": [
    "# Import the data\n",
    "df = pd.read_csv('Resources/cirrhosis.csv')\n",
    "df"
   ]
  },
  {
   "cell_type": "code",
   "execution_count": null,
   "metadata": {},
   "outputs": [
    {
     "ename": "",
     "evalue": "",
     "output_type": "error",
     "traceback": [
      "\u001b[1;31mFailed to start the Kernel. \n",
      "\u001b[1;31mEPERM: operation not permitted, scandir '/Users/huan-jhelin/Desktop/Data Analysis/SupervisedML-PredictingCreditRisk'. \n",
      "\u001b[1;31mView Jupyter <a href='command:jupyter.viewOutput'>log</a> for further details."
     ]
    }
   ],
   "source": [
    "# Drop duplicate data\n",
    "df = df.drop_duplicates()\n",
    "df"
   ]
  },
  {
   "cell_type": "code",
   "execution_count": null,
   "metadata": {},
   "outputs": [
    {
     "ename": "",
     "evalue": "",
     "output_type": "error",
     "traceback": [
      "\u001b[1;31mFailed to start the Kernel. \n",
      "\u001b[1;31mEPERM: operation not permitted, scandir '/Users/huan-jhelin/Desktop/Data Analysis/SupervisedML-PredictingCreditRisk'. \n",
      "\u001b[1;31mView Jupyter <a href='command:jupyter.viewOutput'>log</a> for further details."
     ]
    }
   ],
   "source": [
    "# Check null value\n",
    "df.isnull().sum()"
   ]
  },
  {
   "cell_type": "code",
   "execution_count": null,
   "metadata": {},
   "outputs": [
    {
     "ename": "",
     "evalue": "",
     "output_type": "error",
     "traceback": [
      "\u001b[1;31mFailed to start the Kernel. \n",
      "\u001b[1;31mEPERM: operation not permitted, scandir '/Users/huan-jhelin/Desktop/Data Analysis/SupervisedML-PredictingCreditRisk'. \n",
      "\u001b[1;31mView Jupyter <a href='command:jupyter.viewOutput'>log</a> for further details."
     ]
    }
   ],
   "source": [
    "# drop 'Status','Drug', and 'N_Days','ID'as we are prdiecting Cirrhosis\n",
    "df = df.drop(columns=['ID','Status','Drug','N_Days'])"
   ]
  },
  {
   "cell_type": "code",
   "execution_count": null,
   "metadata": {},
   "outputs": [
    {
     "ename": "",
     "evalue": "",
     "output_type": "error",
     "traceback": [
      "\u001b[1;31mFailed to start the Kernel. \n",
      "\u001b[1;31mEPERM: operation not permitted, scandir '/Users/huan-jhelin/Desktop/Data Analysis/SupervisedML-PredictingCreditRisk'. \n",
      "\u001b[1;31mView Jupyter <a href='command:jupyter.viewOutput'>log</a> for further details."
     ]
    }
   ],
   "source": [
    "# Check data structure to decide how to fill null value\n",
    "check_df = df.dropna()\n",
    "check_df"
   ]
  },
  {
   "cell_type": "code",
   "execution_count": null,
   "metadata": {},
   "outputs": [
    {
     "ename": "",
     "evalue": "",
     "output_type": "error",
     "traceback": [
      "\u001b[1;31mFailed to start the Kernel. \n",
      "\u001b[1;31mEPERM: operation not permitted, scandir '/Users/huan-jhelin/Desktop/Data Analysis/SupervisedML-PredictingCreditRisk'. \n",
      "\u001b[1;31mView Jupyter <a href='command:jupyter.viewOutput'>log</a> for further details."
     ]
    }
   ],
   "source": [
    "# Check data structure to decide how to fill null value\n",
    "fig, axs = plt.subplots(nrows=3, ncols=3, figsize=(12, 10))\n",
    "axs[0, 0].hist(check_df['Bilirubin'],check_df['Bilirubin'].count())\n",
    "axs[0, 0].set_title('Bilirubin')\n",
    "axs[0, 1].hist(check_df['Cholesterol'],check_df['Cholesterol'].count())\n",
    "axs[0, 1].set_title('Cholesterol')\n",
    "axs[0, 2].hist(check_df['Albumin'],check_df['Albumin'].count())\n",
    "axs[0, 2].set_title('Albumin')\n",
    "axs[1, 0].hist(check_df['Copper'],check_df['Copper'].count())\n",
    "axs[1, 0].set_title('Copper')\n",
    "axs[1, 1].hist(check_df['Alk_Phos'],check_df['Alk_Phos'].count())\n",
    "axs[1, 1].set_title('Alk_Phos')\n",
    "axs[1, 2].hist(check_df['SGOT'],check_df['SGOT'].count())\n",
    "axs[1, 2].set_title('SGOT')\n",
    "axs[2, 0].hist(check_df['Tryglicerides'],check_df['Tryglicerides'].count())\n",
    "axs[2, 0].set_title('Tryglicerides')\n",
    "axs[2, 1].hist(check_df['Platelets'],check_df['Platelets'].count())\n",
    "axs[2, 1].set_title('Platelets')\n",
    "axs[2, 2].hist(check_df['Prothrombin'],check_df['Prothrombin'].count())\n",
    "axs[2, 2].set_title('Prothrombin');"
   ]
  },
  {
   "cell_type": "code",
   "execution_count": null,
   "metadata": {},
   "outputs": [
    {
     "ename": "",
     "evalue": "",
     "output_type": "error",
     "traceback": [
      "\u001b[1;31mFailed to start the Kernel. \n",
      "\u001b[1;31mEPERM: operation not permitted, scandir '/Users/huan-jhelin/Desktop/Data Analysis/SupervisedML-PredictingCreditRisk'. \n",
      "\u001b[1;31mView Jupyter <a href='command:jupyter.viewOutput'>log</a> for further details."
     ]
    }
   ],
   "source": [
    "# To fill up null value(numeric columns:by mean(normal distribution) or median(long tail distribution), non-numeric columns: by mode)\n",
    "for col in ['Bilirubin','Cholesterol','Copper','Alk_Phos','SGOT','Tryglicerides','Prothrombin']:\n",
    "    df[col].fillna(df[col].median(),inplace=True)\n",
    "for col in ['Albumin','Platelets']:\n",
    "    df[col].fillna(df[col].mean(),inplace=True)\n",
    "for col in ['Ascites','Hepatomegaly','Spiders','Edema']:\n",
    "    df[col].fillna(df[col].mode().values[0],inplace=True)\n",
    "\t"
   ]
  },
  {
   "cell_type": "code",
   "execution_count": null,
   "metadata": {},
   "outputs": [
    {
     "ename": "",
     "evalue": "",
     "output_type": "error",
     "traceback": [
      "\u001b[1;31mFailed to start the Kernel. \n",
      "\u001b[1;31mEPERM: operation not permitted, scandir '/Users/huan-jhelin/Desktop/Data Analysis/SupervisedML-PredictingCreditRisk'. \n",
      "\u001b[1;31mView Jupyter <a href='command:jupyter.viewOutput'>log</a> for further details."
     ]
    }
   ],
   "source": [
    "df"
   ]
  },
  {
   "cell_type": "code",
   "execution_count": null,
   "metadata": {},
   "outputs": [
    {
     "ename": "",
     "evalue": "",
     "output_type": "error",
     "traceback": [
      "\u001b[1;31mFailed to start the Kernel. \n",
      "\u001b[1;31mEPERM: operation not permitted, scandir '/Users/huan-jhelin/Desktop/Data Analysis/SupervisedML-PredictingCreditRisk'. \n",
      "\u001b[1;31mView Jupyter <a href='command:jupyter.viewOutput'>log</a> for further details."
     ]
    }
   ],
   "source": [
    "# ReCheck null value\n",
    "df.isnull().sum()"
   ]
  },
  {
   "cell_type": "code",
   "execution_count": null,
   "metadata": {},
   "outputs": [
    {
     "ename": "",
     "evalue": "",
     "output_type": "error",
     "traceback": [
      "\u001b[1;31mFailed to start the Kernel. \n",
      "\u001b[1;31mEPERM: operation not permitted, scandir '/Users/huan-jhelin/Desktop/Data Analysis/SupervisedML-PredictingCreditRisk'. \n",
      "\u001b[1;31mView Jupyter <a href='command:jupyter.viewOutput'>log</a> for further details."
     ]
    }
   ],
   "source": [
    "df.info()"
   ]
  },
  {
   "cell_type": "code",
   "execution_count": null,
   "metadata": {},
   "outputs": [
    {
     "ename": "",
     "evalue": "",
     "output_type": "error",
     "traceback": [
      "\u001b[1;31mFailed to start the Kernel. \n",
      "\u001b[1;31mEPERM: operation not permitted, scandir '/Users/huan-jhelin/Desktop/Data Analysis/SupervisedML-PredictingCreditRisk'. \n",
      "\u001b[1;31mView Jupyter <a href='command:jupyter.viewOutput'>log</a> for further details."
     ]
    }
   ],
   "source": [
    "# Transfrom Age\n",
    "df['Age'] = (df['Age']/365).astype(\"int64\")\n",
    "df['Age']"
   ]
  },
  {
   "cell_type": "code",
   "execution_count": null,
   "metadata": {},
   "outputs": [
    {
     "ename": "",
     "evalue": "",
     "output_type": "error",
     "traceback": [
      "\u001b[1;31mFailed to start the Kernel. \n",
      "\u001b[1;31mEPERM: operation not permitted, scandir '/Users/huan-jhelin/Desktop/Data Analysis/SupervisedML-PredictingCreditRisk'. \n",
      "\u001b[1;31mView Jupyter <a href='command:jupyter.viewOutput'>log</a> for further details."
     ]
    }
   ],
   "source": [
    "df['Stage'].value_counts()"
   ]
  },
  {
   "cell_type": "code",
   "execution_count": null,
   "metadata": {},
   "outputs": [
    {
     "ename": "",
     "evalue": "",
     "output_type": "error",
     "traceback": [
      "\u001b[1;31mFailed to start the Kernel. \n",
      "\u001b[1;31mEPERM: operation not permitted, scandir '/Users/huan-jhelin/Desktop/Data Analysis/SupervisedML-PredictingCreditRisk'. \n",
      "\u001b[1;31mView Jupyter <a href='command:jupyter.viewOutput'>log</a> for further details."
     ]
    }
   ],
   "source": [
    "plt.figure(figsize=(16,25))\n",
    "\n",
    "plt.subplot(7,1,1)\n",
    "sns.regplot(x=df['Bilirubin'], y=df['Stage'],scatter=False)\n",
    "plt.xlabel('')\n",
    "plt.setp(plt.title('Cirrhosis Stage vs Bilirubin'))\n",
    "\n",
    "plt.subplot(7,1,2)\n",
    "sns.regplot(x=df['Cholesterol'], y=df['Stage'],scatter=False)\n",
    "plt.xlabel('')\n",
    "plt.setp(plt.title('Cirrhosis Stage vs Cholesterol'));\n",
    "\n",
    "plt.subplot(7,1,3)\n",
    "sns.regplot(x=df['Copper'], y=df['Stage'],scatter=False)\n",
    "plt.xlabel('')\n",
    "plt.setp(plt.title('Cirrhosis Stage vs Copper'));\n",
    "\n",
    "plt.subplot(7,1,4)\n",
    "sns.regplot(x=df['Alk_Phos'], y=df['Stage'],scatter=False)\n",
    "plt.xlabel('')\n",
    "plt.setp(plt.title('Cirrhosis Stage vs Alk_Phos'));\n",
    "\n",
    "plt.subplot(7,1,5)\n",
    "sns.regplot(x=df['SGOT'], y=df['Stage'],scatter=False)\n",
    "plt.xlabel('')\n",
    "plt.setp(plt.title('Cirrhosis Stage vs SGOT'));\n",
    "\n",
    "plt.subplot(7,1,6)\n",
    "sns.regplot(x=df['Tryglicerides'], y=df['Stage'],scatter=False)\n",
    "plt.xlabel('')\n",
    "plt.setp(plt.title('Cirrhosis Stage vs Tryglicerides'))\n",
    "\n",
    "plt.subplot(7,1,7)\n",
    "sns.regplot(x=df['Prothrombin'], y=df['Stage'],scatter=False)\n",
    "plt.xlabel('')\n",
    "plt.setp(plt.title('Cirrhosis Stage vs Prothrombin'));"
   ]
  },
  {
   "cell_type": "code",
   "execution_count": null,
   "metadata": {},
   "outputs": [
    {
     "ename": "",
     "evalue": "",
     "output_type": "error",
     "traceback": [
      "\u001b[1;31mFailed to start the Kernel. \n",
      "\u001b[1;31mEPERM: operation not permitted, scandir '/Users/huan-jhelin/Desktop/Data Analysis/SupervisedML-PredictingCreditRisk'. \n",
      "\u001b[1;31mView Jupyter <a href='command:jupyter.viewOutput'>log</a> for further details."
     ]
    }
   ],
   "source": [
    "# fig, axs = plt.subplots(nrows=2, ncols=2, figsize=(12, 10))\n",
    "# axs[0, 0].plot(kind='bar',df.groupby('Stage')['Hepatomegaly'].value_counts())\n",
    "# dft = df.groupby(['no_employees']).treatment.value_counts().reset_index(name='Count')\n",
    "\n",
    "plt.figure(figsize=(16,6))\n",
    "\n",
    "# Ascites\n",
    "plt.subplot(1,4,1)\n",
    "Ascites_df = df.groupby('Stage')['Ascites'].value_counts().reset_index(name='Count')\n",
    "sns.barplot(data=Ascites_df, x='Stage', y='Count',hue='Ascites')\n",
    "plt.setp(plt.title('Ascites'))\n",
    "\n",
    "# Hepatomegaly\n",
    "plt.subplot(1,4,2)\n",
    "Hepatomegaly_df = df.groupby('Stage')['Hepatomegaly'].value_counts().reset_index(name='Count')\n",
    "sns.barplot(data=Hepatomegaly_df, x='Stage', y='Count',hue='Hepatomegaly')\n",
    "plt.setp(plt.title('Hepatomegaly'))\n",
    "\n",
    "\n",
    "# Spiders\n",
    "plt.subplot(1,4,3)\n",
    "Spiders_df = df.groupby('Stage')['Spiders'].value_counts().reset_index(name='Count')\n",
    "sns.barplot(data=Spiders_df, x='Stage', y='Count',hue='Spiders')\n",
    "plt.setp(plt.title('Spiders'))\n",
    "\n",
    "\n",
    "# Edema\n",
    "plt.subplot(1,4,4)\n",
    "Edema_df = df.groupby('Stage')['Edema'].value_counts().reset_index(name='Count')\n",
    "sns.barplot(data=Edema_df, x='Stage', y='Count',hue='Edema')\n",
    "plt.setp(plt.title('Edema'));\n"
   ]
  },
  {
   "attachments": {},
   "cell_type": "markdown",
   "metadata": {},
   "source": [
    "## Create Models"
   ]
  },
  {
   "cell_type": "markdown",
   "metadata": {},
   "source": [
    "## Split the Data into Training and Testing Sets"
   ]
  },
  {
   "cell_type": "code",
   "execution_count": null,
   "metadata": {},
   "outputs": [],
   "source": [
    "y = df['Stage']\n",
    "ycheck = y.value_counts()\n",
    "ycheck"
   ]
  },
  {
   "cell_type": "code",
   "execution_count": null,
   "metadata": {},
   "outputs": [
    {
     "ename": "",
     "evalue": "",
     "output_type": "error",
     "traceback": [
      "\u001b[1;31mFailed to start the Kernel. \n",
      "\u001b[1;31mEPERM: operation not permitted, scandir '/Users/huan-jhelin/Desktop/Data Analysis/SupervisedML-PredictingCreditRisk'. \n",
      "\u001b[1;31mView Jupyter <a href='command:jupyter.viewOutput'>log</a> for further details."
     ]
    }
   ],
   "source": [
    "X=df.drop('loan_status',axis=1)\n",
    "X"
   ]
  },
  {
   "cell_type": "code",
   "execution_count": null,
   "metadata": {},
   "outputs": [
    {
     "ename": "",
     "evalue": "",
     "output_type": "error",
     "traceback": [
      "\u001b[1;31mFailed to start the Kernel. \n",
      "\u001b[1;31mEPERM: operation not permitted, scandir '/Users/huan-jhelin/Desktop/Data Analysis/SupervisedML-PredictingCreditRisk'. \n",
      "\u001b[1;31mView Jupyter <a href='command:jupyter.viewOutput'>log</a> for further details."
     ]
    }
   ],
   "source": [
    "# Split the data into X_train, X_test, y_train, y_test\n",
    "# the ratio of loan_status of 0 & 1 is unbalanced.\n",
    "X_train, X_test, y_train, y_test = train_test_split(X,y,test_size=0.5, stratify=y, random_state=19)\n",
    "unique_element_train, counts_elements_train = np.unique(y_train, return_counts=True)\n",
    "unique_element_test, counts_elements_test = np.unique(y_test, return_counts=True)\n",
    "print(np.asarray((unique_element_train, counts_elements_train)))\n",
    "print(np.asarray((unique_element_test, counts_elements_test)))"
   ]
  },
  {
   "cell_type": "code",
   "execution_count": null,
   "metadata": {},
   "outputs": [
    {
     "ename": "",
     "evalue": "",
     "output_type": "error",
     "traceback": [
      "\u001b[1;31mFailed to start the Kernel. \n",
      "\u001b[1;31mEPERM: operation not permitted, scandir '/Users/huan-jhelin/Desktop/Data Analysis/SupervisedML-PredictingCreditRisk'. \n",
      "\u001b[1;31mView Jupyter <a href='command:jupyter.viewOutput'>log</a> for further details."
     ]
    }
   ],
   "source": [
    "Scaler = StandardScaler().fit(X_train)\n",
    "X_train_scaled = Scaler.transform(X_train)\n",
    "X_test_scaled = Scaler.transform(X_test)"
   ]
  },
  {
   "cell_type": "markdown",
   "metadata": {},
   "source": [
    "## Create, Fit and Compare Models\n",
    "\n",
    "Create a Logistic Regression model, fit it to the data, and print the model's score. Do the same for a Random Forest Classifier. You may choose any starting hyperparameters you like. \n",
    "\n",
    "Which model performed better? How does that compare to your prediction? Write down your results and thoughts in the designated markdown cell."
   ]
  },
  {
   "cell_type": "markdown",
   "metadata": {},
   "source": [
    "### <span style='font-family:Helvetica;color:darkorange'>Logistic Regression"
   ]
  },
  {
   "cell_type": "markdown",
   "metadata": {},
   "source": [
    "##### <span style='font-family:Helvetica;color:#F5B041 '>Logistic Regression"
   ]
  },
  {
   "cell_type": "code",
   "execution_count": null,
   "metadata": {},
   "outputs": [
    {
     "ename": "",
     "evalue": "",
     "output_type": "error",
     "traceback": [
      "\u001b[1;31mFailed to start the Kernel. \n",
      "\u001b[1;31mEPERM: operation not permitted, scandir '/Users/huan-jhelin/Desktop/Data Analysis/SupervisedML-PredictingCreditRisk'. \n",
      "\u001b[1;31mView Jupyter <a href='command:jupyter.viewOutput'>log</a> for further details."
     ]
    }
   ],
   "source": [
    "from sklearn.linear_model import LogisticRegression\n",
    "\n",
    "model = LogisticRegression()\n",
    "\n",
    "model.fit(X_train_scaled,y_train)\n",
    "\n",
    "print('Model: Logistic Regression')\n",
    "\n",
    "print(f'Test Score: {model.score(X_train_scaled, y_train)}')\n",
    "\n",
    "print(f'Train Score: {model.score(X_test_scaled, y_test)}')"
   ]
  },
  {
   "cell_type": "code",
   "execution_count": null,
   "metadata": {},
   "outputs": [
    {
     "ename": "",
     "evalue": "",
     "output_type": "error",
     "traceback": [
      "\u001b[1;31mFailed to start the Kernel. \n",
      "\u001b[1;31mEPERM: operation not permitted, scandir '/Users/huan-jhelin/Desktop/Data Analysis/SupervisedML-PredictingCreditRisk'. \n",
      "\u001b[1;31mView Jupyter <a href='command:jupyter.viewOutput'>log</a> for further details."
     ]
    }
   ],
   "source": [
    "# Print the classification report for the Logistic Regression model\n",
    "\n",
    "y_pred = model.predict(X_test_scaled)\n",
    "\n",
    "print(classification_report(y_test, y_pred))"
   ]
  },
  {
   "cell_type": "markdown",
   "metadata": {},
   "source": [
    "### <span style='font-family:Helvetica;color:darkorange'> Random Forest Classifier"
   ]
  },
  {
   "cell_type": "code",
   "execution_count": null,
   "metadata": {},
   "outputs": [
    {
     "ename": "",
     "evalue": "",
     "output_type": "error",
     "traceback": [
      "\u001b[1;31mFailed to start the Kernel. \n",
      "\u001b[1;31mEPERM: operation not permitted, scandir '/Users/huan-jhelin/Desktop/Data Analysis/SupervisedML-PredictingCreditRisk'. \n",
      "\u001b[1;31mView Jupyter <a href='command:jupyter.viewOutput'>log</a> for further details."
     ]
    }
   ],
   "source": [
    "# Train a Random Forest Classifier model and print the model score\n",
    "from sklearn.ensemble import RandomForestClassifier\n",
    "classifier = RandomForestClassifier(random_state = 3)\n",
    "clf = classifier.fit(X_train_scaled,y_train)\n",
    "print('Model: Random Forest Classifier')\n",
    "print(f'Test Score: {clf.score(X_train_scaled, y_train)}')\n",
    "print(f'Train Score: {clf.score(X_test_scaled, y_test)}')\n",
    " "
   ]
  },
  {
   "cell_type": "code",
   "execution_count": null,
   "metadata": {},
   "outputs": [
    {
     "ename": "",
     "evalue": "",
     "output_type": "error",
     "traceback": [
      "\u001b[1;31mFailed to start the Kernel. \n",
      "\u001b[1;31mEPERM: operation not permitted, scandir '/Users/huan-jhelin/Desktop/Data Analysis/SupervisedML-PredictingCreditRisk'. \n",
      "\u001b[1;31mView Jupyter <a href='command:jupyter.viewOutput'>log</a> for further details."
     ]
    }
   ],
   "source": [
    "# Print the classification report for the Random Forest Classifier model\n",
    "\n",
    "y_pred_RFC = clf.predict(X_test_scaled)\n",
    "\n",
    "print(classification_report(y_test, y_pred_RFC))"
   ]
  },
  {
   "cell_type": "markdown",
   "metadata": {},
   "source": [
    "## Summary\n"
   ]
  },
  {
   "cell_type": "markdown",
   "metadata": {},
   "source": [
    "Compared to two results from two different classifiers, the output is the same as my prediction.   \n",
    "The Logistic Regression model had a higher accuracy score 0.92 while the Random Forest Classifier model had 0.86."
   ]
  }
 ],
 "metadata": {
  "kernelspec": {
   "display_name": "Python 3.7.15 ('PythonData')",
   "language": "python",
   "name": "python3"
  },
  "language_info": {
   "codemirror_mode": {
    "name": "ipython",
    "version": 3
   },
   "file_extension": ".py",
   "mimetype": "text/x-python",
   "name": "python",
   "nbconvert_exporter": "python",
   "pygments_lexer": "ipython3",
   "version": "3.7.15"
  },
  "vscode": {
   "interpreter": {
    "hash": "c9b0bf6a235527dee47d8aa1349c2e3aa22b2d4d85c71094e9bb0f838d643ae3"
   }
  }
 },
 "nbformat": 4,
 "nbformat_minor": 4
}
